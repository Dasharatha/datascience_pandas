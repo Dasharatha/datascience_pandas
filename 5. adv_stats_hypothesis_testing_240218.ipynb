{
 "cells": [
  {
   "cell_type": "code",
   "execution_count": 5,
   "metadata": {},
   "outputs": [
    {
     "data": {
      "text/plain": [
       "array([5.  , 5.  , 7.25])"
      ]
     },
     "execution_count": 5,
     "metadata": {},
     "output_type": "execute_result"
    }
   ],
   "source": [
    "import numpy as np\n",
    "arr = np.array([1,2,5,5,5,5,5,5,7,5,20,5,9,5,8,9])\n",
    "np.percentile(arr, [25, 50,75])\n"
   ]
  },
  {
   "cell_type": "markdown",
   "metadata": {},
   "source": [
    "# Statistics and Hypothesis Testing"
   ]
  },
  {
   "cell_type": "markdown",
   "metadata": {},
   "source": [
    "### Decision Making Using P and Critical Value for Hypothesis Testing\n",
    "\n",
    "1. Define the statement of the hypothesis (clearly showing dependent and independent variables)\n",
    "2. Establish the Null and Alternative Hypothesis ($H_0$ vs $H_a$)\n",
    "3. Choose the appropriate type of tests based on the sample size, count(how many samples), data type, and objective \n",
    "    - t-test\n",
    "    - z-test\n",
    "    - chi-square test\n",
    "    - ANOVA\n",
    "4. If not mentioned, define the level of significance (critical value or **alpha**) (most of the time it is 1% or 5%)\n",
    "5. Obtain the p value\n",
    "6. Run the evaluation based on p-value and alpha\n",
    "    - If the p-value is **greater** than alpha, we **do NOT reject the null hypothesis** ( there's no change)\n",
    "    - If the p-value is **less** than alpha, we **do reject the null hypothesis**"
   ]
  },
  {
   "cell_type": "markdown",
   "metadata": {},
   "source": [
    "## p- value vs alpha"
   ]
  },
  {
   "cell_type": "markdown",
   "metadata": {},
   "source": [
    "![pv](https://www.automacaodedados.com.br/en/stories/estatistica-em-testes-para-nao-matematicos-parte-5/images/figure3-p-value-greater-than-alpha-en.webp)"
   ]
  },
  {
   "cell_type": "markdown",
   "metadata": {},
   "source": [
    "## t-test\n",
    "### When to use t-test?\n",
    "- When the sample size is very small (<=30)\n",
    "- when the data is close to a normal distribution\n",
    "- When you're comparing the means of 2 groups to evaluate if they differ ot not (different samples)\n",
    "- When you're comparing the effect of a variable in before or after situation (same sample)"
   ]
  },
  {
   "cell_type": "markdown",
   "metadata": {},
   "source": [
    "### Types of t-tests\n",
    "- **Independent sample t-test** check the average of 2 independent, unrelated groups. e.g. people that eat bananas have a stomach ache vs different people who do not eat bananas\n",
    "    - $H_0$: $\\mu_a$ = $\\mu_b$ there's no difference between the groups\n",
    "    - $H_a$: $\\mu_a$ $\\neq$ $\\mu_b$ there's a difference between the groups\n",
    "\n",
    "- **Paird-sample t-test** checks if the average of 2 samples taken from the same population. Mainly used for before vs after analysis. Here we have the difference between before and after $\\mu_d$. Example assessing the impact of medication on the same group of people (before medication vs after medication)\n",
    "    - $H_0$: $\\mu_d$ = 0 there's no difference between the before and after\n",
    "    - $H_a$: $\\mu_d$ $\\neq$ 0 there's a difference between before and after\n",
    "\n",
    "- **One-sample t-test:** The average of a single group is difference than the known average (population [mean is X]). Average adult in the US has IQ of 999. We evaluate the sample against the known average.\n",
    "    - $H_0$: $\\mu_a$ = X there's no difference between the sample and population\n",
    "    - $H_a$: $\\mu_d$ $\\neq$ X there's a difference between sample and population"
   ]
  },
  {
   "cell_type": "markdown",
   "metadata": {},
   "source": [
    "### Independent t-test"
   ]
  },
  {
   "cell_type": "markdown",
   "metadata": {},
   "source": [
    "**Scenario: A/B Testing for Website Conversion Rates**\n",
    "\n",
    "Imagine you work for an e-commerce company, and your team is responsible for optimizing the company's website to increase user engagement and, ultimately, sales. The current design of the \"Buy Now\" button on the website is being tested against a new design to see if it leads to a higher conversion rate.\n",
    "\n",
    " \n",
    "Methodology:\n",
    "- randomly selected website users broken into 2 independent groups (groups A and B)\n",
    "- give group A the old website (old functionality) and group B the new website\n",
    "- measure usage score\n",
    "- perform a statistical analysis to evaluate whether there's a difference in engagement between group A and B\n",
    "\n",
    " \n",
    "Hypothesis:\n",
    "- $H_0$: $\\mu_a$ = $\\mu_b$ there's no difference in engagement score between group A and B\n",
    "- $H_a$: $\\mu_a$ $\\neq$ $\\mu_b$ there's a difference in engagement between group A and B"
   ]
  },
  {
   "cell_type": "code",
   "execution_count": 4,
   "metadata": {},
   "outputs": [],
   "source": [
    "import pandas as pd\n",
    "import scipy.stats as sts"
   ]
  },
  {
   "cell_type": "code",
   "execution_count": 2,
   "metadata": {},
   "outputs": [
    {
     "data": {
      "text/html": [
       "<div>\n",
       "<style scoped>\n",
       "    .dataframe tbody tr th:only-of-type {\n",
       "        vertical-align: middle;\n",
       "    }\n",
       "\n",
       "    .dataframe tbody tr th {\n",
       "        vertical-align: top;\n",
       "    }\n",
       "\n",
       "    .dataframe thead th {\n",
       "        text-align: right;\n",
       "    }\n",
       "</style>\n",
       "<table border=\"1\" class=\"dataframe\">\n",
       "  <thead>\n",
       "    <tr style=\"text-align: right;\">\n",
       "      <th></th>\n",
       "      <th>Group_A</th>\n",
       "      <th>Group_B</th>\n",
       "    </tr>\n",
       "  </thead>\n",
       "  <tbody>\n",
       "    <tr>\n",
       "      <th>0</th>\n",
       "      <td>38</td>\n",
       "      <td>47</td>\n",
       "    </tr>\n",
       "    <tr>\n",
       "      <th>1</th>\n",
       "      <td>34</td>\n",
       "      <td>48</td>\n",
       "    </tr>\n",
       "    <tr>\n",
       "      <th>2</th>\n",
       "      <td>35</td>\n",
       "      <td>50</td>\n",
       "    </tr>\n",
       "    <tr>\n",
       "      <th>3</th>\n",
       "      <td>35</td>\n",
       "      <td>49</td>\n",
       "    </tr>\n",
       "    <tr>\n",
       "      <th>4</th>\n",
       "      <td>35</td>\n",
       "      <td>46</td>\n",
       "    </tr>\n",
       "  </tbody>\n",
       "</table>\n",
       "</div>"
      ],
      "text/plain": [
       "   Group_A  Group_B\n",
       "0       38       47\n",
       "1       34       48\n",
       "2       35       50\n",
       "3       35       49\n",
       "4       35       46"
      ]
     },
     "execution_count": 2,
     "metadata": {},
     "output_type": "execute_result"
    }
   ],
   "source": [
    "df = pd.read_csv('StatsDatasets/AB_Testing_Website.csv')\n",
    "df.head()"
   ]
  },
  {
   "cell_type": "code",
   "execution_count": 3,
   "metadata": {},
   "outputs": [],
   "source": [
    "# isolate group A and group B - old website vs new website\n",
    "\n",
    "group_A = df['Group_A']\n",
    "group_B = df['Group_B']"
   ]
  },
  {
   "cell_type": "code",
   "execution_count": 5,
   "metadata": {},
   "outputs": [],
   "source": [
    "# let's run the ind t test function from scipy which gives us 2 values: t statistic and p value\n",
    "t_stat, p_val = sts.ttest_ind(group_A, group_B)"
   ]
  },
  {
   "cell_type": "code",
   "execution_count": 7,
   "metadata": {},
   "outputs": [
    {
     "name": "stdout",
     "output_type": "stream",
     "text": [
      "t statistic: -15.418485894752864 | p value: 8.2568977246166655e-22\n"
     ]
    }
   ],
   "source": [
    "print('t statistic:',t_stat, '|', 'p value:',p_val)"
   ]
  },
  {
   "cell_type": "markdown",
   "metadata": {},
   "source": [
    "evaluation based on p-value and alpha:\n",
    "\n",
    "- If the p-value is **greater** than alpha, we **do NOT reject the null hypothesis** ( there's no change)\n",
    "- If the p-value is **less** than alpha, we **do reject the null hypothesis**"
   ]
  },
  {
   "cell_type": "code",
   "execution_count": 8,
   "metadata": {},
   "outputs": [
    {
     "name": "stdout",
     "output_type": "stream",
     "text": [
      "We reject the null hypothesis. There is an impact on the engagement from the new functionality\n"
     ]
    }
   ],
   "source": [
    "# in most cases alpha is given or decided by the team or organization. stakeholders can also help determine alpha\n",
    "alpha = 0.05\n",
    "\n",
    "if p_val>alpha:\n",
    "    print('We accept the null hypothesis. There is no impact on the engagement from the new functionality')\n",
    "else:\n",
    "    print('We reject the null hypothesis. There is an impact on the engagement from the new functionality')"
   ]
  },
  {
   "cell_type": "code",
   "execution_count": 11,
   "metadata": {},
   "outputs": [
    {
     "data": {
      "text/plain": [
       "True"
      ]
     },
     "execution_count": 11,
     "metadata": {},
     "output_type": "execute_result"
    }
   ],
   "source": [
    "# average comparison to determine if it's greater or not\n",
    "group_B.mean() > group_A.mean()"
   ]
  },
  {
   "cell_type": "markdown",
   "metadata": {},
   "source": [
    "We can conclude that there's an impact due to the new button and it is positive."
   ]
  },
  {
   "cell_type": "markdown",
   "metadata": {},
   "source": [
    "#### alternative method"
   ]
  },
  {
   "cell_type": "code",
   "execution_count": 10,
   "metadata": {},
   "outputs": [
    {
     "name": "stdout",
     "output_type": "stream",
     "text": [
      "We accept the null hypothesis. There new functionality positively impact\n"
     ]
    }
   ],
   "source": [
    "# for evaluation if the new button caused greater engagement\n",
    "t_stat, p_val = sts.ttest_ind(group_A, group_B, alternative='greater')\n",
    "\n",
    "if p_val>alpha:\n",
    "    print('We accept the null hypothesis. There new functionality positively impact')\n",
    "else:\n",
    "    print('We reject the null hypothesis. There new functionality does not positively impact')"
   ]
  },
  {
   "cell_type": "markdown",
   "metadata": {},
   "source": [
    "#### Build a Function for p-val evaluation"
   ]
  },
  {
   "cell_type": "code",
   "execution_count": 17,
   "metadata": {},
   "outputs": [],
   "source": [
    "def HypothTest(p_val,alpha):\n",
    "    if p_val>alpha:\n",
    "        print('We accept the null hypothesis.')\n",
    "    else:\n",
    "        print('We reject the null hypothesis.')"
   ]
  },
  {
   "cell_type": "markdown",
   "metadata": {},
   "source": [
    "### Exercise 2"
   ]
  },
  {
   "cell_type": "markdown",
   "metadata": {},
   "source": [
    "- To generate a sample of normally distributed data, we can use mean and SD and Size\n",
    "- Build 2 randomly distributed datasets (Gaussian Distribution) and evaluate them: mean (mu), standard deviation (sigma), Size (x)"
   ]
  },
  {
   "cell_type": "code",
   "execution_count": 24,
   "metadata": {},
   "outputs": [],
   "source": [
    "import random\n",
    "import seaborn as sns"
   ]
  },
  {
   "cell_type": "code",
   "execution_count": null,
   "metadata": {},
   "outputs": [],
   "source": [
    "\n",
    "a = [random.gauss(mu=50, sigma=20) for x in range(30)] # generate random gaussian distribution for 30 points based on provided mean and SD values\n",
    "b = [random.gauss(mu=55, sigma=15) for x in range(30)]\n",
    "\n"
   ]
  },
  {
   "cell_type": "code",
   "execution_count": 23,
   "metadata": {},
   "outputs": [
    {
     "data": {
      "text/plain": [
       "[55.01519250880315,\n",
       " 38.84419323784371,\n",
       " 59.45783616438463,\n",
       " 15.62005906096583,\n",
       " 65.95972054114675,\n",
       " 79.98517853734094,\n",
       " 64.24410370315955,\n",
       " 61.18210992343772,\n",
       " 71.79039843126913,\n",
       " 48.23808332502465,\n",
       " 28.51982578383315,\n",
       " 20.652045611559615,\n",
       " 27.955389024587696,\n",
       " 48.75647089591886,\n",
       " 73.3141921254211,\n",
       " 81.44600645466917,\n",
       " 44.74390395504196,\n",
       " 38.56540909212683,\n",
       " 70.63042713422995,\n",
       " 45.75962606192796,\n",
       " 47.5902710196478,\n",
       " 44.2095431442098,\n",
       " 64.39087819658131,\n",
       " 63.80698234207358,\n",
       " 69.91327966272925,\n",
       " 77.48040767894,\n",
       " 35.2024778971751,\n",
       " 49.67504022518042,\n",
       " 10.666384931375148,\n",
       " 52.33358827325216]"
      ]
     },
     "execution_count": 23,
     "metadata": {},
     "output_type": "execute_result"
    }
   ],
   "source": [
    "a"
   ]
  },
  {
   "cell_type": "code",
   "execution_count": 29,
   "metadata": {},
   "outputs": [
    {
     "data": {
      "text/plain": [
       "<Axes: ylabel='Density'>"
      ]
     },
     "execution_count": 29,
     "metadata": {},
     "output_type": "execute_result"
    },
    {
     "data": {
      "image/png": "[encoded data removed]",
      "text/plain": [
       "<Figure size 640x480 with 1 Axes>"
      ]
     },
     "metadata": {},
     "output_type": "display_data"
    }
   ],
   "source": [
    "# plotting generated data\n",
    "sns.kdeplot(a, fill=True, color='b')\n",
    "sns.kdeplot(b, fill=True, color='r')"
   ]
  },
  {
   "cell_type": "markdown",
   "metadata": {},
   "source": [
    "### One-Sample t-test"
   ]
  },
  {
   "cell_type": "markdown",
   "metadata": {},
   "source": [
    "Your organization claims the average age of its employees is 30 years old. You collect a sample of 20 employees' age to check if the claim is true or not. We can use the hypothesis evaluation to test based on alpha value of 5%\n"
   ]
  },
  {
   "cell_type": "markdown",
   "metadata": {},
   "source": [
    "- $H_0$: $\\mu_a$ = X there's no difference between the sample and population age\n",
    "- $H_a$: $\\mu_d$ $\\neq$ X there's a difference between sample and population age \n",
    " \n",
    "Note: X here is the population mean"
   ]
  },
  {
   "cell_type": "code",
   "execution_count": 18,
   "metadata": {},
   "outputs": [],
   "source": [
    "# define X\n",
    "pop_mean = 30\n",
    "alpha = 0.05"
   ]
  },
  {
   "cell_type": "code",
   "execution_count": 14,
   "metadata": {},
   "outputs": [
    {
     "data": {
      "text/plain": [
       "(20, 1)"
      ]
     },
     "execution_count": 14,
     "metadata": {},
     "output_type": "execute_result"
    }
   ],
   "source": [
    "df_ages = pd.read_csv('StatsDatasets/Ages.csv')\n",
    "df_ages.shape"
   ]
  },
  {
   "cell_type": "markdown",
   "metadata": {},
   "source": [
    "This is a sample of 20, which is below 30, so we can use one-sample t test"
   ]
  },
  {
   "cell_type": "code",
   "execution_count": 15,
   "metadata": {},
   "outputs": [
    {
     "name": "stdout",
     "output_type": "stream",
     "text": [
      "t statistic: [2.85505272] | p value: [0.01012962]\n"
     ]
    }
   ],
   "source": [
    "t_stat, p_val = sts.ttest_1samp(df_ages, pop_mean)\n",
    "print('t statistic:',t_stat, '|', 'p value:',p_val)"
   ]
  },
  {
   "cell_type": "code",
   "execution_count": 19,
   "metadata": {},
   "outputs": [
    {
     "name": "stdout",
     "output_type": "stream",
     "text": [
      "We reject the null hypothesis.\n"
     ]
    }
   ],
   "source": [
    "HypothTest(p_val,alpha)"
   ]
  },
  {
   "cell_type": "markdown",
   "metadata": {},
   "source": [
    "We reject the null hypothesis based on the collected sample of employees. Therefore, the organization's claim is false."
   ]
  },
  {
   "cell_type": "code",
   "execution_count": null,
   "metadata": {},
   "outputs": [],
   "source": []
  }
 ],
 "metadata": {
  "kernelspec": {
   "display_name": "Python 3",
   "language": "python",
   "name": "python3"
  },
  "language_info": {
   "codemirror_mode": {
    "name": "ipython",
    "version": 3
   },
   "file_extension": ".py",
   "mimetype": "text/x-python",
   "name": "python",
   "nbconvert_exporter": "python",
   "pygments_lexer": "ipython3",
   "version": "3.11.3"
  }
 },
 "nbformat": 4,
 "nbformat_minor": 2
}
